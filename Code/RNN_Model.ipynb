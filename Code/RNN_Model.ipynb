{
 "cells": [
  {
   "cell_type": "code",
   "execution_count": 1,
   "metadata": {},
   "outputs": [],
   "source": [
    "# Initial imports\n",
    "import pandas as pd\n",
    "import numpy as np\n",
    "import matplotlib.pyplot as plt\n",
    "import tensorflow as tf\n",
    "from pathlib import Path\n",
    "\n",
    "%matplotlib inline"
   ]
  },
  {
   "cell_type": "code",
   "execution_count": 2,
   "metadata": {},
   "outputs": [
    {
     "data": {
      "text/html": [
       "<div>\n",
       "<style scoped>\n",
       "    .dataframe tbody tr th:only-of-type {\n",
       "        vertical-align: middle;\n",
       "    }\n",
       "\n",
       "    .dataframe tbody tr th {\n",
       "        vertical-align: top;\n",
       "    }\n",
       "\n",
       "    .dataframe thead th {\n",
       "        text-align: right;\n",
       "    }\n",
       "</style>\n",
       "<table border=\"1\" class=\"dataframe\">\n",
       "  <thead>\n",
       "    <tr style=\"text-align: right;\">\n",
       "      <th></th>\n",
       "      <th>Unnamed: 0</th>\n",
       "      <th>Unnamed: 0.1</th>\n",
       "      <th>date</th>\n",
       "      <th>title</th>\n",
       "      <th>description</th>\n",
       "      <th>text</th>\n",
       "      <th>language</th>\n",
       "      <th>title_compound</th>\n",
       "      <th>title_pos</th>\n",
       "      <th>title_neu</th>\n",
       "      <th>title_neg</th>\n",
       "      <th>title_sent</th>\n",
       "      <th>text_compound</th>\n",
       "      <th>text_pos</th>\n",
       "      <th>text_neu</th>\n",
       "      <th>text_neg</th>\n",
       "      <th>text_sent</th>\n",
       "    </tr>\n",
       "  </thead>\n",
       "  <tbody>\n",
       "    <tr>\n",
       "      <th>0</th>\n",
       "      <td>0</td>\n",
       "      <td>0</td>\n",
       "      <td>2021-03-05T16:22:19Z</td>\n",
       "      <td>The technology selloff is getting to be somewh...</td>\n",
       "      <td>Tech stocks are getting hammered today, with p...</td>\n",
       "      <td>Tech stocks are getting hammered today, with p...</td>\n",
       "      <td>en</td>\n",
       "      <td>0.0000</td>\n",
       "      <td>0.000</td>\n",
       "      <td>1.000</td>\n",
       "      <td>0.0</td>\n",
       "      <td>0</td>\n",
       "      <td>0.2516</td>\n",
       "      <td>0.145</td>\n",
       "      <td>0.763</td>\n",
       "      <td>0.092</td>\n",
       "      <td>1</td>\n",
       "    </tr>\n",
       "    <tr>\n",
       "      <th>1</th>\n",
       "      <td>1</td>\n",
       "      <td>1</td>\n",
       "      <td>2021-04-02T13:30:00Z</td>\n",
       "      <td>3 Pet Stocks You’ll Love As Much As Your Furry...</td>\n",
       "      <td>Pet ownership is up and so are the stocks of m...</td>\n",
       "      <td>This story originally appeared on MarketBeatIt...</td>\n",
       "      <td>en</td>\n",
       "      <td>0.8074</td>\n",
       "      <td>0.477</td>\n",
       "      <td>0.523</td>\n",
       "      <td>0.0</td>\n",
       "      <td>1</td>\n",
       "      <td>0.6369</td>\n",
       "      <td>0.107</td>\n",
       "      <td>0.893</td>\n",
       "      <td>0.000</td>\n",
       "      <td>1</td>\n",
       "    </tr>\n",
       "    <tr>\n",
       "      <th>2</th>\n",
       "      <td>2</td>\n",
       "      <td>2</td>\n",
       "      <td>2021-03-22T11:18:23Z</td>\n",
       "      <td>US STOCKS-Futures point to gains for tech-rela...</td>\n",
       "      <td>US STOCKS-Futures point to gains for tech-rela...</td>\n",
       "      <td>FILE PHOTO: People are seen on Wall St. outsid...</td>\n",
       "      <td>en</td>\n",
       "      <td>0.5994</td>\n",
       "      <td>0.308</td>\n",
       "      <td>0.692</td>\n",
       "      <td>0.0</td>\n",
       "      <td>1</td>\n",
       "      <td>0.0000</td>\n",
       "      <td>0.000</td>\n",
       "      <td>1.000</td>\n",
       "      <td>0.000</td>\n",
       "      <td>0</td>\n",
       "    </tr>\n",
       "    <tr>\n",
       "      <th>3</th>\n",
       "      <td>3</td>\n",
       "      <td>3</td>\n",
       "      <td>2021-03-10T08:28:00Z</td>\n",
       "      <td>European shares slip as miners, travel stocks ...</td>\n",
       "      <td>European stocks pulled back on Wednesday after...</td>\n",
       "      <td>By Reuters Staff\\r\\nFILE PHOTO: The German sha...</td>\n",
       "      <td>en</td>\n",
       "      <td>0.2960</td>\n",
       "      <td>0.216</td>\n",
       "      <td>0.784</td>\n",
       "      <td>0.0</td>\n",
       "      <td>1</td>\n",
       "      <td>0.2960</td>\n",
       "      <td>0.064</td>\n",
       "      <td>0.936</td>\n",
       "      <td>0.000</td>\n",
       "      <td>1</td>\n",
       "    </tr>\n",
       "    <tr>\n",
       "      <th>4</th>\n",
       "      <td>4</td>\n",
       "      <td>4</td>\n",
       "      <td>2021-03-12T01:00:00Z</td>\n",
       "      <td>RPT-COLUMN-Global oil inventories to become ti...</td>\n",
       "      <td>Global refineries will increase crude processi...</td>\n",
       "      <td>(Repeats Thursdays column with no changes to t...</td>\n",
       "      <td>en</td>\n",
       "      <td>0.0000</td>\n",
       "      <td>0.000</td>\n",
       "      <td>1.000</td>\n",
       "      <td>0.0</td>\n",
       "      <td>0</td>\n",
       "      <td>-0.2960</td>\n",
       "      <td>0.000</td>\n",
       "      <td>0.932</td>\n",
       "      <td>0.068</td>\n",
       "      <td>-1</td>\n",
       "    </tr>\n",
       "  </tbody>\n",
       "</table>\n",
       "</div>"
      ],
      "text/plain": [
       "   Unnamed: 0  Unnamed: 0.1                  date  \\\n",
       "0           0             0  2021-03-05T16:22:19Z   \n",
       "1           1             1  2021-04-02T13:30:00Z   \n",
       "2           2             2  2021-03-22T11:18:23Z   \n",
       "3           3             3  2021-03-10T08:28:00Z   \n",
       "4           4             4  2021-03-12T01:00:00Z   \n",
       "\n",
       "                                               title  \\\n",
       "0  The technology selloff is getting to be somewh...   \n",
       "1  3 Pet Stocks You’ll Love As Much As Your Furry...   \n",
       "2  US STOCKS-Futures point to gains for tech-rela...   \n",
       "3  European shares slip as miners, travel stocks ...   \n",
       "4  RPT-COLUMN-Global oil inventories to become ti...   \n",
       "\n",
       "                                         description  \\\n",
       "0  Tech stocks are getting hammered today, with p...   \n",
       "1  Pet ownership is up and so are the stocks of m...   \n",
       "2  US STOCKS-Futures point to gains for tech-rela...   \n",
       "3  European stocks pulled back on Wednesday after...   \n",
       "4  Global refineries will increase crude processi...   \n",
       "\n",
       "                                                text language  title_compound  \\\n",
       "0  Tech stocks are getting hammered today, with p...       en          0.0000   \n",
       "1  This story originally appeared on MarketBeatIt...       en          0.8074   \n",
       "2  FILE PHOTO: People are seen on Wall St. outsid...       en          0.5994   \n",
       "3  By Reuters Staff\\r\\nFILE PHOTO: The German sha...       en          0.2960   \n",
       "4  (Repeats Thursdays column with no changes to t...       en          0.0000   \n",
       "\n",
       "   title_pos  title_neu  title_neg  title_sent  text_compound  text_pos  \\\n",
       "0      0.000      1.000        0.0           0         0.2516     0.145   \n",
       "1      0.477      0.523        0.0           1         0.6369     0.107   \n",
       "2      0.308      0.692        0.0           1         0.0000     0.000   \n",
       "3      0.216      0.784        0.0           1         0.2960     0.064   \n",
       "4      0.000      1.000        0.0           0        -0.2960     0.000   \n",
       "\n",
       "   text_neu  text_neg  text_sent  \n",
       "0     0.763     0.092          1  \n",
       "1     0.893     0.000          1  \n",
       "2     1.000     0.000          0  \n",
       "3     0.936     0.000          1  \n",
       "4     0.932     0.068         -1  "
      ]
     },
     "execution_count": 2,
     "metadata": {},
     "output_type": "execute_result"
    }
   ],
   "source": [
    "# Import the dataset\n",
    "file_path = Path(\"Resources/Stocks_News_Sentiment.csv\")\n",
    "Sentiment_df = pd.read_csv(file_path)\n",
    "Sentiment_df.head()"
   ]
  },
  {
   "cell_type": "markdown",
   "metadata": {},
   "source": [
    "# Data Preprocessing"
   ]
  },
  {
   "cell_type": "code",
   "execution_count": 3,
   "metadata": {},
   "outputs": [],
   "source": [
    "# Creating the X and y vectors\n",
    "X = Sentiment_df[\"text\"].values\n",
    "y = Sentiment_df[\"text_sent\"].values"
   ]
  },
  {
   "cell_type": "code",
   "execution_count": 4,
   "metadata": {},
   "outputs": [],
   "source": [
    "# Import Keras modules for data encoding\n",
    "from tensorflow.keras.preprocessing.text import Tokenizer\n",
    "from tensorflow.keras.preprocessing.sequence import pad_sequences"
   ]
  },
  {
   "cell_type": "code",
   "execution_count": 5,
   "metadata": {},
   "outputs": [],
   "source": [
    "# Create an instance of the Tokenizer and fit it with the X text data\n",
    "tokenizer = Tokenizer(lower=True)\n",
    "tokenizer.fit_on_texts(X)"
   ]
  },
  {
   "cell_type": "code",
   "execution_count": 6,
   "metadata": {},
   "outputs": [
    {
     "name": "stdout",
     "output_type": "stream",
     "text": [
      "word: 'reuters', token: 1\n",
      "word: 'the', token: 2\n",
      "word: 'chars', token: 3\n",
      "word: 'on', token: 4\n",
      "word: 'a', token: 5\n"
     ]
    }
   ],
   "source": [
    "# Print the first five elements of the encoded vocabulary\n",
    "for token in list(tokenizer.word_index)[:5]:\n",
    "    print(f\"word: '{token}', token: {tokenizer.word_index[token]}\")"
   ]
  },
  {
   "cell_type": "code",
   "execution_count": 7,
   "metadata": {},
   "outputs": [
    {
     "name": "stdout",
     "output_type": "stream",
     "text": [
      "**Text comment**\n",
      "{'Tech stocks are getting hammered today, with previously high-flying shares of software companies taking even more damage.\\r\\nFor a sector that has enjoyed a year in the sun, recent trading sessions hav… [+2674 chars]'}\n",
      "**Numerical sequence representation**\n",
      "[98, 9, 33, 99, 100, 101, 29, 102, 103, 104, 22, 10, 105, 106, 107, 56, 108, 109, 12, 41, 5, 110, 57, 58, 111, 5, 112, 6, 2, 113, 59, 114, 115, 116, 117, 3]\n"
     ]
    }
   ],
   "source": [
    "# Transform the text data to numerical sequences\n",
    "X_seq = tokenizer.texts_to_sequences(X)\n",
    "\n",
    "# Contrast a sample numerical sequence with its text version\n",
    "print(\"**Text comment**\")\n",
    "print({X[0]})\n",
    "print(\"**Numerical sequence representation**\")\n",
    "print(X_seq[0])"
   ]
  },
  {
   "cell_type": "code",
   "execution_count": 8,
   "metadata": {},
   "outputs": [],
   "source": [
    "# Padding sequences\n",
    "X_pad = pad_sequences(X_seq, maxlen=140, padding=\"post\")"
   ]
  },
  {
   "cell_type": "code",
   "execution_count": 9,
   "metadata": {},
   "outputs": [],
   "source": [
    "# Creating training, validation, and testing sets\n",
    "from sklearn.model_selection import train_test_split\n",
    "\n",
    "X_train, X_test, y_train, y_test = train_test_split(X_pad, y, random_state=78)"
   ]
  },
  {
   "cell_type": "markdown",
   "metadata": {},
   "source": [
    "# Build and Train the LSTM RNN Model"
   ]
  },
  {
   "cell_type": "code",
   "execution_count": 10,
   "metadata": {},
   "outputs": [],
   "source": [
    "# Import Keras modules for model creation\n",
    "from tensorflow.keras.models import Sequential\n",
    "from tensorflow.keras.layers import Embedding, LSTM, Dense"
   ]
  },
  {
   "cell_type": "code",
   "execution_count": 11,
   "metadata": {},
   "outputs": [],
   "source": [
    "# Model set-up\n",
    "vocabulary_size = len(tokenizer.word_counts.keys()) + 1\n",
    "max_words = 140\n",
    "embedding_size = 64"
   ]
  },
  {
   "cell_type": "code",
   "execution_count": 12,
   "metadata": {},
   "outputs": [],
   "source": [
    "# Define the LSTM RNN model\n",
    "model = Sequential()\n",
    "\n",
    "# Layer 1\n",
    "model.add(Embedding(vocabulary_size, embedding_size, input_length=max_words))\n",
    "\n",
    "# Layer 2\n",
    "model.add(LSTM(units=280))\n",
    "\n",
    "# Output layer\n",
    "model.add(Dense(1, activation=\"sigmoid\"))"
   ]
  },
  {
   "cell_type": "code",
   "execution_count": 13,
   "metadata": {},
   "outputs": [],
   "source": [
    "# Compile the model\n",
    "model.compile(\n",
    "    loss=\"binary_crossentropy\",\n",
    "    optimizer=\"adam\"\n",
    ")"
   ]
  },
  {
   "cell_type": "code",
   "execution_count": 14,
   "metadata": {},
   "outputs": [
    {
     "name": "stdout",
     "output_type": "stream",
     "text": [
      "Model: \"sequential\"\n",
      "_________________________________________________________________\n",
      "Layer (type)                 Output Shape              Param #   \n",
      "=================================================================\n",
      "embedding (Embedding)        (None, 140, 64)           22912     \n",
      "_________________________________________________________________\n",
      "lstm (LSTM)                  (None, 280)               386400    \n",
      "_________________________________________________________________\n",
      "dense (Dense)                (None, 1)                 281       \n",
      "=================================================================\n",
      "Total params: 409,593\n",
      "Trainable params: 409,593\n",
      "Non-trainable params: 0\n",
      "_________________________________________________________________\n"
     ]
    }
   ],
   "source": [
    "# Summarize the model\n",
    "model.summary()"
   ]
  },
  {
   "cell_type": "code",
   "execution_count": 15,
   "metadata": {},
   "outputs": [
    {
     "name": "stdout",
     "output_type": "stream",
     "text": [
      "Epoch 1/10\n",
      "1/1 [==============================] - 1s 1s/step - loss: 0.6829\n",
      "Epoch 2/10\n",
      "1/1 [==============================] - 0s 187ms/step - loss: 0.6190\n",
      "Epoch 3/10\n",
      "1/1 [==============================] - 0s 170ms/step - loss: 0.5447\n",
      "Epoch 4/10\n",
      "1/1 [==============================] - 0s 185ms/step - loss: 0.4291\n",
      "Epoch 5/10\n",
      "1/1 [==============================] - 0s 174ms/step - loss: 0.1757\n",
      "Epoch 6/10\n",
      "1/1 [==============================] - 0s 178ms/step - loss: 0.0031\n",
      "Epoch 7/10\n",
      "1/1 [==============================] - 0s 210ms/step - loss: 5.3991e-04\n",
      "Epoch 8/10\n",
      "1/1 [==============================] - 0s 198ms/step - loss: 2.0040e-04\n",
      "Epoch 9/10\n",
      "1/1 [==============================] - 0s 180ms/step - loss: 1.0414e-04\n",
      "Epoch 10/10\n",
      "1/1 [==============================] - 0s 202ms/step - loss: 6.4087e-05\n"
     ]
    },
    {
     "data": {
      "text/plain": [
       "<tensorflow.python.keras.callbacks.History at 0x1ba546792c8>"
      ]
     },
     "execution_count": 15,
     "metadata": {},
     "output_type": "execute_result"
    }
   ],
   "source": [
    "# Training the model\n",
    "batch_size = 1000\n",
    "model.fit(\n",
    "    X_train,\n",
    "    y_train,\n",
    "    epochs=10,\n",
    "    batch_size=batch_size,\n",
    "    verbose=1,\n",
    ")"
   ]
  },
  {
   "cell_type": "code",
   "execution_count": 16,
   "metadata": {},
   "outputs": [
    {
     "name": "stderr",
     "output_type": "stream",
     "text": [
      "C:\\Users\\louis\\Anaconda3\\envs\\deeplearnenv\\lib\\site-packages\\tensorflow\\python\\keras\\engine\\sequential.py:450: UserWarning: `model.predict_classes()` is deprecated and will be removed after 2021-01-01. Please use instead:* `np.argmax(model.predict(x), axis=-1)`,   if your model does multi-class classification   (e.g. if it uses a `softmax` last-layer activation).* `(model.predict(x) > 0.5).astype(\"int32\")`,   if your model does binary classification   (e.g. if it uses a `sigmoid` last-layer activation).\n",
      "  warnings.warn('`model.predict_classes()` is deprecated and '\n"
     ]
    }
   ],
   "source": [
    "# Make sentiment predictions\n",
    "predicted = model.predict_classes(X_test[:10]) "
   ]
  },
  {
   "cell_type": "code",
   "execution_count": 17,
   "metadata": {},
   "outputs": [],
   "source": [
    "# The table below compares the actual text (not the sequences) from the original dataframe to the predicted values\n",
    "# For that purpose we need to apply train_test_split with the same random state to the original X and save it as  X_test_original (we don't need the other values)\n",
    "_, X_test_original, _, _ = train_test_split(X, y, random_state=78)"
   ]
  },
  {
   "cell_type": "code",
   "execution_count": 18,
   "metadata": {},
   "outputs": [
    {
     "data": {
      "text/html": [
       "<div>\n",
       "<style scoped>\n",
       "    .dataframe tbody tr th:only-of-type {\n",
       "        vertical-align: middle;\n",
       "    }\n",
       "\n",
       "    .dataframe tbody tr th {\n",
       "        vertical-align: top;\n",
       "    }\n",
       "\n",
       "    .dataframe thead th {\n",
       "        text-align: right;\n",
       "    }\n",
       "</style>\n",
       "<table border=\"1\" class=\"dataframe\">\n",
       "  <thead>\n",
       "    <tr style=\"text-align: right;\">\n",
       "      <th></th>\n",
       "      <th>Text</th>\n",
       "      <th>Actual</th>\n",
       "      <th>Predicted</th>\n",
       "    </tr>\n",
       "  </thead>\n",
       "  <tbody>\n",
       "    <tr>\n",
       "      <th>0</th>\n",
       "      <td>* MSCI EM stocks index up 0.6%; Fed vows to st...</td>\n",
       "      <td>-1</td>\n",
       "      <td>0</td>\n",
       "    </tr>\n",
       "    <tr>\n",
       "      <th>1</th>\n",
       "      <td>By Reuters Staff\\r\\nFILE PHOTO: The German sha...</td>\n",
       "      <td>0</td>\n",
       "      <td>0</td>\n",
       "    </tr>\n",
       "    <tr>\n",
       "      <th>2</th>\n",
       "      <td>FILE PHOTO: People are seen on Wall St. outsid...</td>\n",
       "      <td>0</td>\n",
       "      <td>0</td>\n",
       "    </tr>\n",
       "    <tr>\n",
       "      <th>3</th>\n",
       "      <td>By Reuters Staff\\r\\nFILE PHOTO: The German sha...</td>\n",
       "      <td>1</td>\n",
       "      <td>0</td>\n",
       "    </tr>\n",
       "    <tr>\n",
       "      <th>4</th>\n",
       "      <td>This story originally appeared on MarketBeatIt...</td>\n",
       "      <td>1</td>\n",
       "      <td>0</td>\n",
       "    </tr>\n",
       "  </tbody>\n",
       "</table>\n",
       "</div>"
      ],
      "text/plain": [
       "                                                Text  Actual  Predicted\n",
       "0  * MSCI EM stocks index up 0.6%; Fed vows to st...      -1          0\n",
       "1  By Reuters Staff\\r\\nFILE PHOTO: The German sha...       0          0\n",
       "2  FILE PHOTO: People are seen on Wall St. outsid...       0          0\n",
       "3  By Reuters Staff\\r\\nFILE PHOTO: The German sha...       1          0\n",
       "4  This story originally appeared on MarketBeatIt...       1          0"
      ]
     },
     "execution_count": 18,
     "metadata": {},
     "output_type": "execute_result"
    }
   ],
   "source": [
    "# Create a DataFrame of Real and Predicted values\n",
    "sentiments = pd.DataFrame({\"Text\": X_test_original[:10], \"Actual\": y_test[:10], \"Predicted\": predicted.ravel()})\n",
    "sentiments"
   ]
  },
  {
   "cell_type": "code",
   "execution_count": 22,
   "metadata": {},
   "outputs": [
    {
     "name": "stdout",
     "output_type": "stream",
     "text": [
      "RNN LSTM Accuracy 0.40\n"
     ]
    }
   ],
   "source": [
    "# Accuracy\n",
    "from sklearn.metrics import accuracy_score\n",
    "\n",
    "print(\"RNN LSTM Accuracy %.2f\" % (accuracy_score(y_test, predicted)))"
   ]
  },
  {
   "cell_type": "code",
   "execution_count": 24,
   "metadata": {},
   "outputs": [
    {
     "name": "stdout",
     "output_type": "stream",
     "text": [
      "Confusion Matrix from the RNN LSTM Model\n"
     ]
    },
    {
     "data": {
      "text/plain": [
       "array([[0, 1, 0],\n",
       "       [0, 2, 0],\n",
       "       [0, 2, 0]], dtype=int64)"
      ]
     },
     "metadata": {},
     "output_type": "display_data"
    }
   ],
   "source": [
    "# Import the confusion_matrix method from sklearn\n",
    "from sklearn.metrics import confusion_matrix\n",
    "\n",
    "cm = confusion_matrix(y_test, predicted)\n",
    "print(\"Confusion Matrix from the RNN LSTM Model\")\n",
    "display(cm)"
   ]
  },
  {
   "cell_type": "code",
   "execution_count": 23,
   "metadata": {},
   "outputs": [
    {
     "name": "stdout",
     "output_type": "stream",
     "text": [
      "Classification Report for the RNN LSTM Model\n",
      "              precision    recall  f1-score   support\n",
      "\n",
      "          -1       0.00      0.00      0.00         0\n",
      "           0       1.00      0.40      0.57         5\n",
      "           1       0.00      0.00      0.00         0\n",
      "\n",
      "    accuracy                           0.40         5\n",
      "   macro avg       0.33      0.13      0.19         5\n",
      "weighted avg       1.00      0.40      0.57         5\n",
      "\n"
     ]
    },
    {
     "name": "stderr",
     "output_type": "stream",
     "text": [
      "C:\\Users\\louis\\Anaconda3\\envs\\deeplearnenv\\lib\\site-packages\\sklearn\\metrics\\_classification.py:1221: UndefinedMetricWarning: Recall and F-score are ill-defined and being set to 0.0 in labels with no true samples. Use `zero_division` parameter to control this behavior.\n",
      "  _warn_prf(average, modifier, msg_start, len(result))\n"
     ]
    }
   ],
   "source": [
    "# Import the classification_report method from sklearn\n",
    "from sklearn.metrics import classification_report\n",
    "\n",
    "# Display classification report for the RNN LSTM Model\n",
    "print(\"Classification Report for the RNN LSTM Model\")\n",
    "print(classification_report(predicted, y_test))"
   ]
  },
  {
   "cell_type": "code",
   "execution_count": null,
   "metadata": {},
   "outputs": [],
   "source": []
  }
 ],
 "metadata": {
  "kernelspec": {
   "display_name": "Python [conda env:deeplearnenv]",
   "language": "python",
   "name": "conda-env-deeplearnenv-py"
  },
  "language_info": {
   "codemirror_mode": {
    "name": "ipython",
    "version": 3
   },
   "file_extension": ".py",
   "mimetype": "text/x-python",
   "name": "python",
   "nbconvert_exporter": "python",
   "pygments_lexer": "ipython3",
   "version": "3.7.9"
  }
 },
 "nbformat": 4,
 "nbformat_minor": 4
}
