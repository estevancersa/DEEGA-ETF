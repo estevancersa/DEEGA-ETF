{
 "cells": [
  {
   "cell_type": "code",
   "execution_count": 1,
   "metadata": {},
   "outputs": [],
   "source": [
    "import pandas as pd\n",
    "from pathlib import Path\n",
    "%matplotlib inline"
   ]
  },
  {
   "cell_type": "code",
   "execution_count": 53,
   "metadata": {},
   "outputs": [
    {
     "data": {
      "text/html": [
       "<div>\n",
       "<style scoped>\n",
       "    .dataframe tbody tr th:only-of-type {\n",
       "        vertical-align: middle;\n",
       "    }\n",
       "\n",
       "    .dataframe tbody tr th {\n",
       "        vertical-align: top;\n",
       "    }\n",
       "\n",
       "    .dataframe thead th {\n",
       "        text-align: right;\n",
       "    }\n",
       "</style>\n",
       "<table border=\"1\" class=\"dataframe\">\n",
       "  <thead>\n",
       "    <tr style=\"text-align: right;\">\n",
       "      <th></th>\n",
       "      <th>Date</th>\n",
       "      <th>MSFT</th>\n",
       "      <th>KSU</th>\n",
       "      <th>CRWD</th>\n",
       "      <th>CCIV</th>\n",
       "      <th>PLUG</th>\n",
       "      <th>NIO</th>\n",
       "      <th>BABA</th>\n",
       "      <th>FUTU</th>\n",
       "      <th>TSLA</th>\n",
       "      <th>AMZN</th>\n",
       "    </tr>\n",
       "  </thead>\n",
       "  <tbody>\n",
       "    <tr>\n",
       "      <th>0</th>\n",
       "      <td>3/25/2021</td>\n",
       "      <td>232.34</td>\n",
       "      <td>252.70</td>\n",
       "      <td>179.16</td>\n",
       "      <td>24.03</td>\n",
       "      <td>34.10</td>\n",
       "      <td>37.94</td>\n",
       "      <td>222.72</td>\n",
       "      <td>111.77</td>\n",
       "      <td>640.39</td>\n",
       "      <td>3046.26</td>\n",
       "    </tr>\n",
       "    <tr>\n",
       "      <th>1</th>\n",
       "      <td>3/26/2021</td>\n",
       "      <td>236.48</td>\n",
       "      <td>253.62</td>\n",
       "      <td>177.68</td>\n",
       "      <td>23.02</td>\n",
       "      <td>34.03</td>\n",
       "      <td>36.13</td>\n",
       "      <td>227.26</td>\n",
       "      <td>114.69</td>\n",
       "      <td>618.71</td>\n",
       "      <td>3052.03</td>\n",
       "    </tr>\n",
       "    <tr>\n",
       "      <th>2</th>\n",
       "      <td>3/29/2021</td>\n",
       "      <td>235.24</td>\n",
       "      <td>255.23</td>\n",
       "      <td>173.85</td>\n",
       "      <td>21.35</td>\n",
       "      <td>30.78</td>\n",
       "      <td>35.51</td>\n",
       "      <td>231.86</td>\n",
       "      <td>131.51</td>\n",
       "      <td>611.29</td>\n",
       "      <td>3075.73</td>\n",
       "    </tr>\n",
       "    <tr>\n",
       "      <th>3</th>\n",
       "      <td>3/30/2021</td>\n",
       "      <td>231.85</td>\n",
       "      <td>259.63</td>\n",
       "      <td>175.28</td>\n",
       "      <td>23.51</td>\n",
       "      <td>34.04</td>\n",
       "      <td>37.55</td>\n",
       "      <td>229.25</td>\n",
       "      <td>137.86</td>\n",
       "      <td>635.62</td>\n",
       "      <td>3055.29</td>\n",
       "    </tr>\n",
       "    <tr>\n",
       "      <th>4</th>\n",
       "      <td>3/31/2021</td>\n",
       "      <td>235.77</td>\n",
       "      <td>263.92</td>\n",
       "      <td>182.51</td>\n",
       "      <td>23.18</td>\n",
       "      <td>35.84</td>\n",
       "      <td>38.98</td>\n",
       "      <td>226.73</td>\n",
       "      <td>158.82</td>\n",
       "      <td>667.93</td>\n",
       "      <td>3094.08</td>\n",
       "    </tr>\n",
       "  </tbody>\n",
       "</table>\n",
       "</div>"
      ],
      "text/plain": [
       "        Date    MSFT     KSU    CRWD   CCIV   PLUG    NIO    BABA    FUTU  \\\n",
       "0  3/25/2021  232.34  252.70  179.16  24.03  34.10  37.94  222.72  111.77   \n",
       "1  3/26/2021  236.48  253.62  177.68  23.02  34.03  36.13  227.26  114.69   \n",
       "2  3/29/2021  235.24  255.23  173.85  21.35  30.78  35.51  231.86  131.51   \n",
       "3  3/30/2021  231.85  259.63  175.28  23.51  34.04  37.55  229.25  137.86   \n",
       "4  3/31/2021  235.77  263.92  182.51  23.18  35.84  38.98  226.73  158.82   \n",
       "\n",
       "     TSLA     AMZN  \n",
       "0  640.39  3046.26  \n",
       "1  618.71  3052.03  \n",
       "2  611.29  3075.73  \n",
       "3  635.62  3055.29  \n",
       "4  667.93  3094.08  "
      ]
     },
     "execution_count": 53,
     "metadata": {},
     "output_type": "execute_result"
    }
   ],
   "source": [
    "file_path = Path('stock_prices.csv')\n",
    "stock_prices = pd.read_csv(file_path)\n",
    "stock_prices.head()"
   ]
  },
  {
   "cell_type": "code",
   "execution_count": 64,
   "metadata": {},
   "outputs": [],
   "source": [
    "# stock_prices.describe()"
   ]
  },
  {
   "cell_type": "code",
   "execution_count": 61,
   "metadata": {},
   "outputs": [],
   "source": [
    "# initial_prices=stock_prices[stock_prices['Date']=='3/25/2021']\n",
    "stock_prices=stock_prices.set_index('Date')\n",
    "initial_prices=stock_prices.iloc[0]#.to_dict()\n",
    "initial_shares=1000/initial_prices#.drop('Date', axis=1)\n",
    "#stock_prices=stock_prices.set_index('Date')\n",
    "# stock_prices\n",
    "initial_shares_dict=initial_shares.to_dict()\n",
    "#initial_shares_dict\n",
    "for idx, row in stock_prices.iterrows():\n",
    "    current_portfolio=0\n",
    "    for each_ticker, shares in initial_shares_dict.items(): \n",
    "        current_portfolio+=row[each_ticker]*shares\n",
    "#     print(current_portfolio)\n",
    "    stock_prices.loc[idx, 'Portfolio']=current_portfolio\n",
    "stock_prices['Portfolio']=stock_prices.applymap(lambda x: x*initial_shares_dict[x])"
   ]
  },
  {
   "cell_type": "code",
   "execution_count": 69,
   "metadata": {},
   "outputs": [
    {
     "data": {
      "text/html": [
       "<div>\n",
       "<style scoped>\n",
       "    .dataframe tbody tr th:only-of-type {\n",
       "        vertical-align: middle;\n",
       "    }\n",
       "\n",
       "    .dataframe tbody tr th {\n",
       "        vertical-align: top;\n",
       "    }\n",
       "\n",
       "    .dataframe thead th {\n",
       "        text-align: right;\n",
       "    }\n",
       "</style>\n",
       "<table border=\"1\" class=\"dataframe\">\n",
       "  <thead>\n",
       "    <tr style=\"text-align: right;\">\n",
       "      <th></th>\n",
       "      <th>Daily_Return</th>\n",
       "    </tr>\n",
       "    <tr>\n",
       "      <th>Date</th>\n",
       "      <th></th>\n",
       "    </tr>\n",
       "  </thead>\n",
       "  <tbody>\n",
       "    <tr>\n",
       "      <th>3/25/2021</th>\n",
       "      <td>NaN</td>\n",
       "    </tr>\n",
       "    <tr>\n",
       "      <th>3/26/2021</th>\n",
       "      <td>-0.006404</td>\n",
       "    </tr>\n",
       "    <tr>\n",
       "      <th>3/29/2021</th>\n",
       "      <td>-0.003437</td>\n",
       "    </tr>\n",
       "    <tr>\n",
       "      <th>3/30/2021</th>\n",
       "      <td>0.032968</td>\n",
       "    </tr>\n",
       "    <tr>\n",
       "      <th>3/31/2021</th>\n",
       "      <td>0.038164</td>\n",
       "    </tr>\n",
       "    <tr>\n",
       "      <th>4/1/2021</th>\n",
       "      <td>0.004381</td>\n",
       "    </tr>\n",
       "    <tr>\n",
       "      <th>4/5/2021</th>\n",
       "      <td>-0.004479</td>\n",
       "    </tr>\n",
       "    <tr>\n",
       "      <th>4/6/2021</th>\n",
       "      <td>0.015339</td>\n",
       "    </tr>\n",
       "    <tr>\n",
       "      <th>4/7/2021</th>\n",
       "      <td>-0.026308</td>\n",
       "    </tr>\n",
       "    <tr>\n",
       "      <th>4/8/2021</th>\n",
       "      <td>0.029076</td>\n",
       "    </tr>\n",
       "    <tr>\n",
       "      <th>4/9/2021</th>\n",
       "      <td>-0.005097</td>\n",
       "    </tr>\n",
       "    <tr>\n",
       "      <th>4/12/2021</th>\n",
       "      <td>-0.006203</td>\n",
       "    </tr>\n",
       "  </tbody>\n",
       "</table>\n",
       "</div>"
      ],
      "text/plain": [
       "           Daily_Return\n",
       "Date                   \n",
       "3/25/2021           NaN\n",
       "3/26/2021     -0.006404\n",
       "3/29/2021     -0.003437\n",
       "3/30/2021      0.032968\n",
       "3/31/2021      0.038164\n",
       "4/1/2021       0.004381\n",
       "4/5/2021      -0.004479\n",
       "4/6/2021       0.015339\n",
       "4/7/2021      -0.026308\n",
       "4/8/2021       0.029076\n",
       "4/9/2021      -0.005097\n",
       "4/12/2021     -0.006203"
      ]
     },
     "execution_count": 69,
     "metadata": {},
     "output_type": "execute_result"
    }
   ],
   "source": [
    "stock_prices['Portfolio_Previous_Day']=stock_prices['Portfolio'].shift(1)\n",
    "stock_prices['Daily_Return']=(stock_prices['Portfolio']/stock_prices['Portfolio_Previous_Day'])-1\n",
    "stock_prices[['Daily_Return']]#.plot()"
   ]
  },
  {
   "cell_type": "code",
   "execution_count": 70,
   "metadata": {},
   "outputs": [
    {
     "data": {
      "text/plain": [
       "<AxesSubplot:xlabel='Date'>"
      ]
     },
     "execution_count": 70,
     "metadata": {},
     "output_type": "execute_result"
    },
    {
     "data": {
      "image/png": "[encoded data removed]",
      "text/plain": [
       "<Figure size 432x288 with 1 Axes>"
      ]
     },
     "metadata": {
      "needs_background": "light"
     },
     "output_type": "display_data"
    }
   ],
   "source": [
    "stock_prices[['Daily_Return']].plot()"
   ]
  },
  {
   "cell_type": "code",
   "execution_count": 71,
   "metadata": {},
   "outputs": [
    {
     "data": {
      "text/plain": [
       "<AxesSubplot:xlabel='Date'>"
      ]
     },
     "execution_count": 71,
     "metadata": {},
     "output_type": "execute_result"
    },
    {
     "data": {
      "image/png": "[encoded data removed]",
      "text/plain": [
       "<Figure size 432x288 with 1 Axes>"
      ]
     },
     "metadata": {
      "needs_background": "light"
     },
     "output_type": "display_data"
    }
   ],
   "source": [
    "stock_prices[['Portfolio']].plot()"
   ]
  },
  {
   "cell_type": "code",
   "execution_count": null,
   "metadata": {},
   "outputs": [],
   "source": []
  }
 ],
 "metadata": {
  "kernelspec": {
   "display_name": "Python 3",
   "language": "python",
   "name": "python3"
  },
  "language_info": {
   "codemirror_mode": {
    "name": "ipython",
    "version": 3
   },
   "file_extension": ".py",
   "mimetype": "text/x-python",
   "name": "python",
   "nbconvert_exporter": "python",
   "pygments_lexer": "ipython3",
   "version": "3.7.9"
  }
 },
 "nbformat": 4,
 "nbformat_minor": 4
}
