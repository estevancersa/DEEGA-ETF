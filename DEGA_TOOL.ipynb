{
 "cells": [
  {
   "cell_type": "code",
   "execution_count": 1,
   "metadata": {},
   "outputs": [
    {
     "data": {
      "text/plain": [
       "True"
      ]
     },
     "execution_count": 1,
     "metadata": {},
     "output_type": "execute_result"
    }
   ],
   "source": [
    "#Imports \n",
    "import os\n",
    "import tweepy\n",
    "import re\n",
    "import datetime\n",
    "import time\n",
    "from dotenv import load_dotenv\n",
    "load_dotenv('API.env')"
   ]
  },
  {
   "cell_type": "code",
   "execution_count": 2,
   "metadata": {},
   "outputs": [],
   "source": [
    "#Twitter API Keys \n",
    "auth = tweepy.OAuthHandler(os.getenv('consumer_keys'), os.getenv('consumer_secrets'))\n",
    "auth.set_access_token(os.getenv('access_token'), os.getenv('access_token_secret'))\n",
    "api = tweepy.API(auth, wait_on_rate_limit=True)"
   ]
  },
  {
   "cell_type": "code",
   "execution_count": 3,
   "metadata": {},
   "outputs": [],
   "source": [
    "#Define dates for automation of Twitter and Stock analysis \n",
    "start = datetime.datetime(2021,3,31)\n",
    "end = datetime.datetime(2021,4,3)"
   ]
  },
  {
   "cell_type": "code",
   "execution_count": 4,
   "metadata": {},
   "outputs": [],
   "source": [
    "handles = [\"alphatrends\", \n",
    "           \"benzinga\", \n",
    "           \"bespokeinvest\",\n",
    "           \"BreakoutStocks\", \n",
    "           \"chamath\", \n",
    "           \"charliebilello\",\n",
    "           \"DanFitzpatrick\", \n",
    "           \"DanZanger\", \n",
    "           \"eWhispers\", \n",
    "           \"IBDinvestors\" , \n",
    "           \"Investingcom\", \n",
    "           \"jimcramer\", \n",
    "           \"KimbleCharting\", \n",
    "           \"markminervini\", \n",
    "           \"MysteryTrader99\", \n",
    "           \"NorthmanTrader\", \n",
    "           \"OptionsHawk\", \n",
    "           \"OptionsMike\", \n",
    "           \"patternprofits\",\n",
    "           \"RedDogT3\", \n",
    "           \"seekingalpha\", \n",
    "           \"sspencer_smb\", \n",
    "           \"stephanie_link\", \n",
    "           \"StocktonKatie\", \n",
    "           \"stocktwits\",\n",
    "           \"ACInvestorBlog\",\n",
    "            \"AirborneJM\",\n",
    "            \"AreteTrading\",\n",
    "            \"CathieDWood\",\n",
    "            \"CNBCFastMoney\",\n",
    "            \"EPSGUID\",\n",
    "            \"FirstSquawk\",\n",
    "            \"GreekTrader777\",\n",
    "            \"HedgeMind\",\n",
    "            \"HulkCapital\", \n",
    "            \"IcemanTrading\",\n",
    "            \"ihors3\",\n",
    "            \"IPODave\",\n",
    "            \"JMacInvesting\",\n",
    "            \"JMVala_Trades\",\n",
    "            \"MadMoneyOnCNBC\",\n",
    "            \"McClellanOsc\",\n",
    "            \"MDTrades12\", \n",
    "            \"muddywatersre\",\n",
    "            \"OpenOutcrier\",\n",
    "            \"ParikPatelCFA\",\n",
    "            \"PatternProfits\",\n",
    "            \"petenajarian\",\n",
    "            \"ryanwallace198\",\n",
    "            \"stephenLweiss\",\n",
    "            \"AmyAtrade\", \n",
    "            \"Apompliano\",\n",
    "            \"AWMCheung\",\n",
    "            \"barronsonline\",\n",
    "            \"BrianFeroldi\",\n",
    "            \"canuck2usa\",\n",
    "            \"CitronResearch\", \n",
    "            \"costonchaahhts\",\n",
    "            \"dcblocher\",\n",
    "            \"elonmusk\",\n",
    "            \"farrisbaba\",\n",
    "            \"froggytrade\",\n",
    "            \"fundstrat\",\n",
    "            \"IGSquawk\",\n",
    "            \"jmoneystonks\",\n",
    "            \"johnscharts\",\n",
    "            \"markets\",\n",
    "            \"MarketWatch\",\n",
    "            \"MikeDDKing\",\n",
    "            \"nickchen66\",\n",
    "            \"pierscurran\",\n",
    "            \"RampCapitalLLC\",\n",
    "            \"StockCats\",\n",
    "            \"Street_Insider\",\n",
    "            \"SuperDuperInvst\",\n",
    "            \"SunriseTrader\", \n",
    "            \"TheStreet\", \n",
    "            \"timseymour\", \n",
    "            \"traderstewie\", \n",
    "            \"TrendSpider\",\n",
    "            \"stoolpresidente\",\n",
    "            \"super_trades\", \n",
    "            \"the_chart_life\",\n",
    "            \"TraderMentality\",\n",
    "            \"wsmod\",\n",
    "            \"szaman\",\n",
    "            \"theflynews\",\n",
    "            \"timothysykes\",\n",
    "            \"ValueStockGeek\",\n",
    "            \"WallStJesus\",\n",
    "            \"allstarcharts\",\n",
    "            \"BullandBaird\",\n",
    "            \"DeanChristians\",\n",
    "            \"DogtheTrader\",\n",
    "            \"GuyAdami\",\n",
    "            \"Koyfin\",\n",
    "            \"LizAnnSonders\",\n",
    "            \"MarketRebels\",\n",
    "            \"MarkNewtonCMT\",\n",
    "            \"Street_Insider\",\n",
    "           ]\n",
    "text = ''\n",
    "\n",
    "for handle in handles:\n",
    "    stock_tweets = tweepy.Cursor(api.search,\n",
    "                                 q=f\"from:{handle}\",\n",
    "                                 since=start.strftime('%Y-%m-%d').replace('-0', '-'),\n",
    "                                 until=end.strftime('%Y-%m-%d').replace('-0', '-'),\n",
    "                                 ).items(200)\n",
    "    for t in stock_tweets:\n",
    "        text+=' ' +t.text"
   ]
  },
  {
   "cell_type": "code",
   "execution_count": 5,
   "metadata": {},
   "outputs": [],
   "source": [
    "file1 = (text)"
   ]
  },
  {
   "cell_type": "code",
   "execution_count": 6,
   "metadata": {},
   "outputs": [
    {
     "name": "stdout",
     "output_type": "stream",
     "text": [
      "<class 'str'>\n"
     ]
    }
   ],
   "source": [
    "i = file1\n",
    "print(type(i))"
   ]
  },
  {
   "cell_type": "code",
   "execution_count": 7,
   "metadata": {},
   "outputs": [],
   "source": [
    "myText = open(r'../D.E.G.A._StockScreener/Mar31_Apr3.txt','w', encoding='utf-8')\n",
    "myList = file1\n",
    "myText.write(myList)\n",
    "myText.close()"
   ]
  },
  {
   "cell_type": "code",
   "execution_count": null,
   "metadata": {},
   "outputs": [],
   "source": []
  }
 ],
 "metadata": {
  "kernelspec": {
   "display_name": "Python 3",
   "language": "python",
   "name": "python3"
  },
  "language_info": {
   "codemirror_mode": {
    "name": "ipython",
    "version": 3
   },
   "file_extension": ".py",
   "mimetype": "text/x-python",
   "name": "python",
   "nbconvert_exporter": "python",
   "pygments_lexer": "ipython3",
   "version": "3.8.5"
  }
 },
 "nbformat": 4,
 "nbformat_minor": 4
}
